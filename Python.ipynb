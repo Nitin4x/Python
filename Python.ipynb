{
  "nbformat": 4,
  "nbformat_minor": 0,
  "metadata": {
    "colab": {
      "provenance": []
    },
    "kernelspec": {
      "name": "python3",
      "display_name": "Python 3"
    },
    "language_info": {
      "name": "python"
    }
  },
  "cells": [
    {
      "cell_type": "markdown",
      "source": [
        "# Python\n",
        "\n",
        "\n"
      ],
      "metadata": {
        "id": "ZUVlEa955clY"
      }
    },
    {
      "cell_type": "markdown",
      "source": [
        "1. what is Python, and why is it popular?\n",
        "  -Python is a high level, interpreted programming language known for its readability and simplicity it is popular because of its:\n",
        "\n",
        "  - Easy-to-understand syntax\n",
        "  - Large standard library\n",
        "  -Strong community support\n",
        "  -Versatility in fields like web development, data science, automation, and AI.\n",
        "\n",
        "\n",
        "2. What is an interpreter im Python?\n",
        "  -An interpreter is a program that executes Python code line-by-line. translating it into machine code at runtime. it allows immediate feedback and easier debugging.\n",
        "\n",
        "\n",
        "3. what are pre-defined keywords in Python?\n",
        "  -Pre-defined keywords are reversed words in python with special meaning, such as if,for,while,def,class, etc. These keywords form the syntax and structure of python code.\n",
        "\n",
        "\n",
        "4. Can keywords be used as variable names?\n",
        "   -No, keywords cannot be used as variable names because they are reversed by the python language foe specific operations.\n",
        "\n",
        "\n",
        "5. What is mutability in Python?\n",
        "   -Mutability refers to weather an objects contect can be changed after it is created. mutable objects (like strings and tuples) cannot.\n",
        "\n",
        "\n",
        "6. Why are lists mutables, but tumples are immutable?\n",
        "   -lists are mutable to allow flexible data manipulation. Tumples are immutables to ensure data integrity and allow theirs use as keys in dictionaries and elements in sets, which requiire immutability.\n",
        "\n",
        "\n",
        "7. What is the defference between == and is operators in Python?\n",
        "    - == checks value equality (wheather two objects have the same value).\n",
        "    \n",
        "   - is checks identity (weather  two refference point to the same objects in memory).\n",
        "\n",
        "\n",
        "\n",
        "8. What are logical operators in Python?\n",
        "   -Python has three logical operators:\n",
        "\n",
        "      - and: True is both operands are true\n",
        "      - or: True if at least one operands is true\n",
        "      - not: Ivertes the truth value\n",
        "\n",
        "\n",
        "  9. Whats is type casting in Python?\n",
        "     -Type casting is the process of converting a value from one data type to another, e.g.,int(\"5\") converrts the strings \"5\" into an integer.\n",
        "\n",
        "\n",
        "  10. Whats is the difference between implicits and explicit type casting?:\n",
        "     - implicit casting: Python automatically converts types (e.g.,int + float results in float)\n",
        "\n",
        "\n",
        "  11. Whats is the purpose of conditional statements in Python?\n",
        "     -Conditional statements (if,elif,else) are used to make decisions in code by excuting differents blocks dependings on weather conditions is ture or false.\n",
        "     \n",
        "\n",
        "  12. How does the elif statements works?\n",
        "     -elifs stands for \"else if\". it allows multipe conditions to be checked sequentially. Iff an if condition is false, Python checks  elif condition in order until one is true or falls to the else.\n",
        "\n",
        "\n",
        " 13. Whats is the defference between for and while loops?\n",
        "   -for loops: Iterates over a sequence (like a list or range) with a known\n",
        "   numbers of iterations.\n",
        "   -while loop: Repeats as long as a condition is true , often used when the number of iteration isn't known in advance\n",
        "   \n",
        "\n",
        " 14. Discribe a scenario where a while lopp is more suitable than a for loop.\n",
        "   -A while loop is better when looping untile a specific condition is met.\n",
        "   Example: Reading user input until they type \"exit\":\n",
        "\n",
        "   user_inputs = \"\"\n",
        "   while user_inputs !=\"exit\":\n",
        "   user_input = inputs(\"Type somethings (or'exit'to quit):')\n",
        "    \n"
      ],
      "metadata": {
        "id": "udertp5o6X-U"
      }
    },
    {
      "cell_type": "markdown",
      "source": [],
      "metadata": {
        "id": "c3WRusA8QcHd"
      }
    },
    {
      "cell_type": "markdown",
      "source": [
        "#Practical"
      ],
      "metadata": {
        "id": "bqayse7fQTUZ"
      }
    },
    {
      "cell_type": "markdown",
      "source": [
        "1. write a python program to print \"Hello, World!y\n",
        "\n"
      ],
      "metadata": {
        "id": "_NnM6fCPQdCu"
      }
    },
    {
      "cell_type": "code",
      "source": [
        "# 1. Print \"Hello, World!\"\n",
        "print(\"Hello, World!\")"
      ],
      "metadata": {
        "colab": {
          "base_uri": "https://localhost:8080/"
        },
        "id": "NlhB_yJIRoTf",
        "outputId": "48775986-6823-4207-cfe6-f81bcc56cada"
      },
      "execution_count": null,
      "outputs": [
        {
          "output_type": "stream",
          "name": "stdout",
          "text": [
            "Hello, World!\n"
          ]
        }
      ]
    },
    {
      "cell_type": "markdown",
      "source": [
        "2.write a Python program that displays your name and age"
      ],
      "metadata": {
        "id": "oBj_fBZJTQRr"
      }
    },
    {
      "cell_type": "code",
      "source": [
        "# 2. display name and age\n",
        "name = \"Alice\"\n",
        "age = 25\n",
        "print(f\"My name is {name} and I am {age} years old.\")"
      ],
      "metadata": {
        "id": "ShZdXQiPTgHv",
        "colab": {
          "base_uri": "https://localhost:8080/"
        },
        "outputId": "e54f7476-78da-4cc8-d540-6bd5dec59980"
      },
      "execution_count": null,
      "outputs": [
        {
          "output_type": "stream",
          "name": "stdout",
          "text": [
            "My name is Alice and I am 25 years old.\n"
          ]
        }
      ]
    },
    {
      "cell_type": "markdown",
      "source": [
        "3.Write code to print all the pre-defined keywords in python using the keywords library."
      ],
      "metadata": {
        "id": "QYFQ1AxOUL1J"
      }
    },
    {
      "cell_type": "code",
      "source": [
        "# 3. Print all pre-defined keywords in Python\n",
        "import keyword\n",
        "# Print all Python keywords\n",
        "print(\"list of Python keywords:\")\n",
        "for kw in keyword.kwlist:\n",
        "  print(kw)"
      ],
      "metadata": {
        "id": "KmZmT26MVlV-",
        "colab": {
          "base_uri": "https://localhost:8080/"
        },
        "outputId": "19fcef30-45fd-4ca3-8a8b-578b20b483da"
      },
      "execution_count": null,
      "outputs": [
        {
          "output_type": "stream",
          "name": "stdout",
          "text": [
            "list of Python keywords:\n",
            "False\n",
            "None\n",
            "True\n",
            "and\n",
            "as\n",
            "assert\n",
            "async\n",
            "await\n",
            "break\n",
            "class\n",
            "continue\n",
            "def\n",
            "del\n",
            "elif\n",
            "else\n",
            "except\n",
            "finally\n",
            "for\n",
            "from\n",
            "global\n",
            "if\n",
            "import\n",
            "in\n",
            "is\n",
            "lambda\n",
            "nonlocal\n",
            "not\n",
            "or\n",
            "pass\n",
            "raise\n",
            "return\n",
            "try\n",
            "while\n",
            "with\n",
            "yield\n"
          ]
        }
      ]
    },
    {
      "cell_type": "markdown",
      "source": [
        "4. Write the program that checks if a given word is aPyython keywords."
      ],
      "metadata": {
        "id": "c_bzVodHYBhi"
      }
    },
    {
      "cell_type": "code",
      "source": [
        "import keyword\n",
        "\n",
        "# Ask the user for a word\n",
        "word = input(\"Enter a word to check if it's a Python keyword: \")\n",
        "\n",
        "# Check if the word is a Python keyword\n",
        "if keyword.iskeyword(word):\n",
        "  print(f\"'{word}' is a Python keyword.\")\n",
        "else:\n",
        "    print(f\"'{word}' is not a Python.\")\n"
      ],
      "metadata": {
        "id": "vVKtjdxqYWp8"
      },
      "execution_count": null,
      "outputs": []
    },
    {
      "cell_type": "markdown",
      "source": [
        "5. Create a list and tuple in Python, and demonstrate how attempting to change an element works differently for each."
      ],
      "metadata": {
        "id": "k585JX-ZP3EN"
      }
    },
    {
      "cell_type": "code",
      "source": [
        "# Creating a list and tuple\n",
        "my_list = [1, 2, 3]\n",
        "my_tuple = (1, 2, 3)\n",
        "# modifying an element in the list\n",
        "my_list[0] = 10\n",
        "print(\"Modified list:\", my_list) # Output: [10, 2, 3]\n",
        "# Attempting to modify an element in the tuple\n",
        "# Creating a list and tuple\n",
        "my_list = [1, 2, 3]\n",
        "my_tuple = (1, 2, 3)\n",
        "# modifying an element in the list\n",
        "my_list[0] = 10\n",
        "print(\"Modified list:\", my_list) # Output: [10, 2, 3]\n",
        "# Attempting to modify an element in the tuple\n",
        "try:\n",
        "  my_tuple[0] = 10\n",
        "except TypeError as e:\n",
        "    print(\"Error when modifying tuple:\", e)"
      ],
      "metadata": {
        "id": "X-c6hVpJRBIn",
        "colab": {
          "base_uri": "https://localhost:8080/",
          "height": 106
        },
        "outputId": "16045e70-6881-47df-e3cc-26a122837000"
      },
      "execution_count": 3,
      "outputs": [
        {
          "output_type": "error",
          "ename": "SyntaxError",
          "evalue": "invalid syntax (<ipython-input-3-19d1868d4cae>, line 10)",
          "traceback": [
            "\u001b[0;36m  File \u001b[0;32m\"<ipython-input-3-19d1868d4cae>\"\u001b[0;36m, line \u001b[0;32m10\u001b[0m\n\u001b[0;31m    except TypeError: as e:\u001b[0m\n\u001b[0m    ^\u001b[0m\n\u001b[0;31mSyntaxError\u001b[0m\u001b[0;31m:\u001b[0m invalid syntax\n"
          ]
        }
      ]
    },
    {
      "cell_type": "markdown",
      "source": [
        "6. Why are lists mutables, but tuples are immutable"
      ],
      "metadata": {
        "id": "JEELTWouiyY8"
      }
    },
    {
      "cell_type": "code",
      "source": [
        "my_list = [1, 2, 3]\n",
        "my_list.append(4) # Now it's [1, 2, 3, 4]"
      ],
      "metadata": {
        "id": "lOhWYBQujhM1"
      },
      "execution_count": 12,
      "outputs": []
    },
    {
      "cell_type": "markdown",
      "source": [
        "7. Write program that performs basics arithmatic operation on two user-inputs numbers"
      ],
      "metadata": {
        "id": "4uGJ8l6dC7R8"
      }
    },
    {
      "source": [
        "1# Basic Arithmetic Operation Program\n",
        "# Get inputs from the user\n",
        "num1 = float(input(\"Enter the first number: \"))\n",
        "num2 = float(input(\"Enter the second number: \"))\n",
        "\n",
        "# Perform arithmetic operations\n",
        "addition = num1 + num2\n",
        "subtraction = num1 - num2\n",
        "multiplication = num1 * num2\n",
        "# Handle division by zero\n",
        "# Basic Arithmetic Operation Program\n",
        "# Get inputs from the user\n",
        "num1 = float(input(\"Enter the first number: \"))\n",
        "num2 = float(input(\"Enter the second number: \"))\n",
        "\n",
        "# Perform arithmetic operations\n",
        "addition = num1 + num2\n",
        "subtraction = num1 - num2\n",
        "multiplication = num1 * num2\n",
        "# Handle division by zero\n",
        "if num2 != 0:\n",
        "  division = num1 / num2\n",
        "else:\n",
        "  division = \"Undefined (division by zero is not allowed)\"\n",
        "# Display results\n",
        "print(f\"\\nResults:\")\n",
        "print(f\"{num1} + {num2} = {addition}\")\n",
        "print(f\"{num1} - {num2} = {subtraction}\")\n",
        "print(f\"{num1} * {num2} = {multiplication}\")\n",
        "print(f\"{num1} / {num2} = {division}\")\n",
        "# The following lines were incorrectly indented, removed the extra indentation\n",
        "print(f\"\\nResults:\")\n",
        "print(f\"{num1} + {num2} = {addition}\")\n",
        "print(f\"{num1} - {num2} = {subtraction}\")\n",
        "print(f\"{num1} * {num2} = {multiplication}\")\n",
        "print(f\"{num1} / {num2} = {division}\")"
      ],
      "cell_type": "code",
      "metadata": {
        "colab": {
          "base_uri": "https://localhost:8080/"
        },
        "id": "_k6oSS_pMHcT",
        "outputId": "af05a597-de85-4569-f478-710077cd68e3"
      },
      "execution_count": 15,
      "outputs": [
        {
          "output_type": "stream",
          "name": "stdout",
          "text": [
            "Enter the first number: 1\n",
            "Enter the second number: 1\n",
            "Enter the first number: 1\n",
            "Enter the second number: 1\n",
            "\n",
            "Results:\n",
            "1.0 + 1.0 = 2.0\n",
            "1.0 - 1.0 = 0.0\n",
            "1.0 * 1.0 = 1.0\n",
            "1.0 / 1.0 = 1.0\n",
            "\n",
            "Results:\n",
            "1.0 + 1.0 = 2.0\n",
            "1.0 - 1.0 = 0.0\n",
            "1.0 * 1.0 = 1.0\n",
            "1.0 / 1.0 = 1.0\n"
          ]
        }
      ]
    },
    {
      "cell_type": "markdown",
      "source": [
        "8. What are logical operator in Python?"
      ],
      "metadata": {
        "id": "LT6TUCIlHuTd"
      }
    },
    {
      "cell_type": "code",
      "source": [
        "a = 5\n",
        "b = 10\n",
        "# Logical AND\n",
        "print(a < 3 and b < 15) # True because both conditions are True\n",
        "# Logical OR\n",
        "print(a < 3 or b < 15) # True because both conditions is True\n",
        "# Logical NOT\n",
        "print(not (a > 3)) # False because a > 3 is True, and not True is false"
      ],
      "metadata": {
        "colab": {
          "base_uri": "https://localhost:8080/"
        },
        "id": "RMPnT3snIAVq",
        "outputId": "02ee0419-5d49-457b-b0a3-349755f3edb7"
      },
      "execution_count": 7,
      "outputs": [
        {
          "output_type": "stream",
          "name": "stdout",
          "text": [
            "False\n",
            "True\n",
            "False\n"
          ]
        }
      ]
    },
    {
      "cell_type": "markdown",
      "source": [
        "9. What is type casting in Python ?"
      ],
      "metadata": {
        "id": "_Y4DQV_wKbKy"
      }
    },
    {
      "cell_type": "code",
      "source": [
        "x = \"5\" # x is a string\n",
        "y = int(x) + 10 # to an integer before adding\n",
        "print(y) # Output: 15"
      ],
      "metadata": {
        "colab": {
          "base_uri": "https://localhost:8080/"
        },
        "id": "d59UT_o3K4CJ",
        "outputId": "914ce1f2-5df9-40e0-c908-99aded078121"
      },
      "execution_count": 9,
      "outputs": [
        {
          "output_type": "stream",
          "name": "stdout",
          "text": [
            "15\n"
          ]
        }
      ]
    },
    {
      "cell_type": "markdown",
      "source": [
        "10. Write code to demonstrate type casting with list element?"
      ],
      "metadata": {
        "id": "wHWPOIAhNraF"
      }
    },
    {
      "cell_type": "code",
      "source": [
        "# List with string elements\n",
        "str_list = ['1', '2', '3', '4', '5']\n",
        "# Converts each elements to an integer using list comprehension\n",
        "int_list = [int(item) for item in str_list]\n",
        "# Display both lists\n",
        "print(\"Original (string) list:\", str_list)\n",
        "print(\"Converted (integer):\", int_list)\n",
        "# Perform an operation to prove conversion\n",
        "total = sum(int_list)\n",
        "print(\"Sum of integer list eleents:\", total)"
      ],
      "metadata": {
        "colab": {
          "base_uri": "https://localhost:8080/"
        },
        "id": "ySv5DNZVN-z4",
        "outputId": "b648be3a-f34e-44cd-87b5-96794159290c"
      },
      "execution_count": 16,
      "outputs": [
        {
          "output_type": "stream",
          "name": "stdout",
          "text": [
            "Original (string) list: ['1', '2', '3', '4', '5']\n",
            "Converted (integer): [1, 2, 3, 4, 5]\n",
            "Sum of integer list eleents: 15\n"
          ]
        }
      ]
    },
    {
      "cell_type": "markdown",
      "source": [
        "11. Write a program checks if a numer is positive, negative or zero?"
      ],
      "metadata": {
        "id": "zQ7GwI8YQnCI"
      }
    },
    {
      "cell_type": "code",
      "source": [
        "# Program to check if a number is positive, negative, or zero\n",
        "# Get input from the user\n",
        "num = float(input(\"Enter a number: \"))\n",
        "# Check the number 's sign\n",
        "if num > 0:\n",
        "  print(\"The number is positive.\")\n",
        "elif num < 0:\n",
        "  print(\"The number is negative.\")\n",
        "else:\n",
        "  print(\"The number is zero.\")\n"
      ],
      "metadata": {
        "colab": {
          "base_uri": "https://localhost:8080/"
        },
        "id": "e87qZ-zZQ2Fg",
        "outputId": "42833443-65ba-4049-bb77-c770035e8ef9"
      },
      "execution_count": 17,
      "outputs": [
        {
          "output_type": "stream",
          "name": "stdout",
          "text": [
            "Enter a number: 0\n",
            "The number is zero.\n"
          ]
        }
      ]
    },
    {
      "cell_type": "markdown",
      "source": [
        "12. Write a for loop to prints number from 1 to 10 ?"
      ],
      "metadata": {
        "id": "ZPGMevfJSMyB"
      }
    },
    {
      "cell_type": "code",
      "source": [
        "# For loop to print numbers from 1 to 10\n",
        "for i in range(1, 11):\n",
        "  print(i)"
      ],
      "metadata": {
        "colab": {
          "base_uri": "https://localhost:8080/"
        },
        "id": "xKakAX9ZSheW",
        "outputId": "bf212219-74e8-45c7-f32e-ee4fa1e6d818"
      },
      "execution_count": 18,
      "outputs": [
        {
          "output_type": "stream",
          "name": "stdout",
          "text": [
            "1\n",
            "2\n",
            "3\n",
            "4\n",
            "5\n",
            "6\n",
            "7\n",
            "8\n",
            "9\n",
            "10\n"
          ]
        }
      ]
    },
    {
      "cell_type": "markdown",
      "source": [
        "13. Write a Python program to find the sum of all even numbers between 1 to 50."
      ],
      "metadata": {
        "id": "swbKu1JGTHNw"
      }
    },
    {
      "cell_type": "code",
      "source": [
        "# Program to find the sum of even numbers from 1 to 50\n",
        "# Initialize sum\n",
        "even_sum = 0\n",
        "# Loop through numbers from 1 to 50\n",
        "for i in range(1, 51):\n",
        "  if i % 2 == 0:\n",
        "    even_sum += i"
      ],
      "metadata": {
        "id": "K-5TqgpBTmTI"
      },
      "execution_count": 20,
      "outputs": []
    },
    {
      "cell_type": "markdown",
      "source": [
        "14. Write a program to reverse a string using a while loop."
      ],
      "metadata": {
        "id": "GkjOZ2XVUTce"
      }
    },
    {
      "cell_type": "code",
      "source": [
        "# Program to reverse a string usimg a while loop\n",
        "# Get input from the user\n",
        "text = input(\"Enter a string: \")\n",
        "# Initialize variables\n",
        "reversed_str = \"\"\n",
        "index = len(text) - 1\n",
        "# Use while loop to reverse the string\n",
        "while index >= 0:\n",
        "  reversed_str += text[index]\n",
        "  index -= 1\n",
        "  # Display the reversed string\n",
        "  print(\"Reversed string:\", reversed_str)"
      ],
      "metadata": {
        "colab": {
          "base_uri": "https://localhost:8080/"
        },
        "id": "ddAYmIT3UnvU",
        "outputId": "b8beee55-6cb9-465f-a5e2-103adbcd2b4d"
      },
      "execution_count": 21,
      "outputs": [
        {
          "output_type": "stream",
          "name": "stdout",
          "text": [
            "Enter a string: reversed\n",
            "Reversed string: d\n",
            "Reversed string: de\n",
            "Reversed string: des\n",
            "Reversed string: desr\n",
            "Reversed string: desre\n",
            "Reversed string: desrev\n",
            "Reversed string: desreve\n",
            "Reversed string: desrever\n"
          ]
        }
      ]
    },
    {
      "cell_type": "markdown",
      "source": [
        "15. Write a Python program to calculate the factorial of a number provided by the user using a while loop."
      ],
      "metadata": {
        "id": "YmX6C8iJWvkV"
      }
    },
    {
      "cell_type": "code",
      "source": [
        "from sre_constants import IN_IGNORE\n",
        "# Program to calculate the factorial of a number using a while loop\n",
        "# Get input from the user\n",
        "num = int(input(\"Enter a non-negative integer: \"))\n",
        "# Validate input\n",
        "if num < 0:\n",
        "  print(\"Factorial is not defined for negative numbers.\")\n",
        "else:\n",
        "  factorial = 1\n",
        "  i = 1\n",
        "  # Use whilw loop to calculate factorial\n",
        "  while i <= num:\n",
        "    factorial *= i\n",
        "    i += 1\n",
        "    # Display the result\n",
        "    print(f\"Factorial of {num} is: {factorial}\")"
      ],
      "metadata": {
        "colab": {
          "base_uri": "https://localhost:8080/"
        },
        "id": "RI5BOLOBXRJr",
        "outputId": "218cadc3-c2a0-4747-c8da-c6afcfa0b241"
      },
      "execution_count": 22,
      "outputs": [
        {
          "output_type": "stream",
          "name": "stderr",
          "text": [
            "<ipython-input-22-699031753ff4>:1: DeprecationWarning: module 'sre_constants' is deprecated\n",
            "  from sre_constants import IN_IGNORE\n"
          ]
        },
        {
          "name": "stdout",
          "output_type": "stream",
          "text": [
            "Enter a non-negative integer: 0\n"
          ]
        }
      ]
    }
  ]
}